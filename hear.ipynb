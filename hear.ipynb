{
 "cells": [
  {
   "cell_type": "code",
   "execution_count": 43,
   "metadata": {
    "collapsed": true
   },
   "outputs": [],
   "source": [
    "import pandas as pd\n",
    "import numpy as np\n",
    "import tensorflow.contrib.keras as keras\n",
    "from keras.datasets import mnist\n",
    "from keras.models import Sequential\n",
    "from keras.layers import Dense\n",
    "from keras.layers import Dropout\n",
    "from keras import initializers\n",
    "from keras import optimizers\n",
    "from keras.optimizers import SGD\n",
    "from keras.wrappers.scikit_learn import KerasClassifier\n",
    "from sklearn.model_selection import RandomizedSearchCV, ParameterGrid\n",
    "from sklearn.model_selection import train_test_split"
   ]
  },
  {
   "cell_type": "markdown",
   "metadata": {},
   "source": [
    "### Cleaning NANs"
   ]
  },
  {
   "cell_type": "code",
   "execution_count": 44,
   "metadata": {
    "collapsed": true
   },
   "outputs": [],
   "source": [
    "df = pd.read_csv(\"data.csv\", header=None, index_col=False)\n",
    "df = df.replace('?', np.nan)\n",
    "for i in range(14):\n",
    "    median = pd.to_numeric(df[i].dropna()).median()\n",
    "    df[i] = df[i].fillna(median)"
   ]
  },
  {
   "cell_type": "markdown",
   "metadata": {},
   "source": [
    "### Preparing data for ML"
   ]
  },
  {
   "cell_type": "code",
   "execution_count": 45,
   "metadata": {},
   "outputs": [
    {
     "data": {
      "text/plain": [
       "(212, 2)"
      ]
     },
     "execution_count": 45,
     "metadata": {},
     "output_type": "execute_result"
    }
   ],
   "source": [
    "train, test = train_test_split(df, test_size=0.3)\n",
    "\n",
    "y_train = np.asfarray(train[13].astype('category').to_frame())\n",
    "x_train = np.asfarray(train.drop([13], axis=1).astype('float32'))\n",
    "y_test = np.asfarray(test[13].astype('category').to_frame())\n",
    "x_test = np.asfarray(test.drop([13], axis=1).astype('float32'))\n",
    "\n",
    "#binary classes\n",
    "y_train = np.clip(y_train, None, 1)\n",
    "y_test = np.clip(y_test, None, 1)\n",
    "\n",
    "# convert class vectors to binary class matrices\n",
    "num_classes = 2\n",
    "y_train = keras.utils.to_categorical(y_train, num_classes)\n",
    "y_test = keras.utils.to_categorical(y_test, num_classes)\n",
    "y_train.shape"
   ]
  },
  {
   "cell_type": "markdown",
   "metadata": {},
   "source": [
    "### Training"
   ]
  },
  {
   "cell_type": "code",
   "execution_count": 47,
   "metadata": {},
   "outputs": [],
   "source": [
    "epochs = 10\n",
    "num_input_nodes = 13\n",
    "batch_size = 5\n",
    "\n",
    "param_grid = {\n",
    "    'nodes': [32, 64, 128, 256, 512], \n",
    "    'lr': [0.001, 0.01, 0.1, 0.2],  \n",
    "    'activation1':['relu', 'selu', 'sigmoid'], \n",
    "    'activation2':['relu', 'sigmoid', 'softmax'], \n",
    "    'loss':['poisson', 'categorical_crossentropy', 'categorical_hinge'],\n",
    "    'opt_indx':[0],#,1,2], #AdaDelta, Adagrad, RMSprop\n",
    "    'bias1':[True, False],\n",
    "    'bias2':[True, False],\n",
    "}"
   ]
  },
  {
   "cell_type": "code",
   "execution_count": 48,
   "metadata": {
    "collapsed": true
   },
   "outputs": [],
   "source": [
    "def build_model(nodes,lr,batch_size,activation1,activation2,loss,opt_indx,bias1,bias2):\n",
    "    model = Sequential() # means we have layers that are stacked on each other in sequence\n",
    "    model.add(Dense(nodes, activation=activation1, input_shape=(num_input_nodes,), \n",
    "                    use_bias=bias1))\n",
    "    model.add(Dense(num_classes, activation=activation2, use_bias=bias2))\n",
    "    \n",
    "    opt_list = [optimizers.Adadelta(lr=lr), optimizers.Adagrad(lr=lr),optimizers.RMSprop(lr=lr)] \n",
    "    model.compile(loss=loss,\n",
    "                  optimizer=opt_list[opt_indx],\n",
    "                  metrics=['accuracy'])\n",
    "    return(model)\n",
    "\n",
    "model = KerasClassifier(build_fn=build_model2, epochs=epochs,batch_size=batch_size,verbose=0)"
   ]
  },
  {
   "cell_type": "code",
   "execution_count": 53,
   "metadata": {
    "scrolled": true
   },
   "outputs": [
    {
     "name": "stdout",
     "output_type": "stream",
     "text": [
      "Fitting 3 folds for each of 20 candidates, totalling 60 fits\n",
      "[CV] opt_indx=0, nodes=256, lr=0.2, loss=categorical_hinge, bias2=False, bias1=True, activation2=relu, activation1=relu \n",
      "[CV]  opt_indx=0, nodes=256, lr=0.2, loss=categorical_hinge, bias2=False, bias1=True, activation2=relu, activation1=relu, total=   6.2s\n",
      "[CV] opt_indx=0, nodes=256, lr=0.2, loss=categorical_hinge, bias2=False, bias1=True, activation2=relu, activation1=relu \n"
     ]
    },
    {
     "name": "stderr",
     "output_type": "stream",
     "text": [
      "[Parallel(n_jobs=1)]: Done   1 out of   1 | elapsed:    6.3s remaining:    0.0s\n"
     ]
    },
    {
     "name": "stdout",
     "output_type": "stream",
     "text": [
      "[CV]  opt_indx=0, nodes=256, lr=0.2, loss=categorical_hinge, bias2=False, bias1=True, activation2=relu, activation1=relu, total=   6.0s\n",
      "[CV] opt_indx=0, nodes=256, lr=0.2, loss=categorical_hinge, bias2=False, bias1=True, activation2=relu, activation1=relu \n",
      "[CV]  opt_indx=0, nodes=256, lr=0.2, loss=categorical_hinge, bias2=False, bias1=True, activation2=relu, activation1=relu, total=   6.5s\n",
      "[CV] opt_indx=0, nodes=32, lr=0.01, loss=categorical_crossentropy, bias2=True, bias1=False, activation2=softmax, activation1=selu \n",
      "[CV]  opt_indx=0, nodes=32, lr=0.01, loss=categorical_crossentropy, bias2=True, bias1=False, activation2=softmax, activation1=selu, total=   6.3s\n",
      "[CV] opt_indx=0, nodes=32, lr=0.01, loss=categorical_crossentropy, bias2=True, bias1=False, activation2=softmax, activation1=selu \n",
      "[CV]  opt_indx=0, nodes=32, lr=0.01, loss=categorical_crossentropy, bias2=True, bias1=False, activation2=softmax, activation1=selu, total=   8.0s\n",
      "[CV] opt_indx=0, nodes=32, lr=0.01, loss=categorical_crossentropy, bias2=True, bias1=False, activation2=softmax, activation1=selu \n",
      "[CV]  opt_indx=0, nodes=32, lr=0.01, loss=categorical_crossentropy, bias2=True, bias1=False, activation2=softmax, activation1=selu, total=   5.9s\n",
      "[CV] opt_indx=0, nodes=32, lr=0.2, loss=poisson, bias2=True, bias1=False, activation2=softmax, activation1=sigmoid \n",
      "[CV]  opt_indx=0, nodes=32, lr=0.2, loss=poisson, bias2=True, bias1=False, activation2=softmax, activation1=sigmoid, total=   6.4s\n",
      "[CV] opt_indx=0, nodes=32, lr=0.2, loss=poisson, bias2=True, bias1=False, activation2=softmax, activation1=sigmoid \n",
      "[CV]  opt_indx=0, nodes=32, lr=0.2, loss=poisson, bias2=True, bias1=False, activation2=softmax, activation1=sigmoid, total=   6.6s\n",
      "[CV] opt_indx=0, nodes=32, lr=0.2, loss=poisson, bias2=True, bias1=False, activation2=softmax, activation1=sigmoid \n",
      "[CV]  opt_indx=0, nodes=32, lr=0.2, loss=poisson, bias2=True, bias1=False, activation2=softmax, activation1=sigmoid, total=   6.3s\n",
      "[CV] opt_indx=0, nodes=512, lr=0.2, loss=categorical_crossentropy, bias2=True, bias1=True, activation2=relu, activation1=relu \n",
      "[CV]  opt_indx=0, nodes=512, lr=0.2, loss=categorical_crossentropy, bias2=True, bias1=True, activation2=relu, activation1=relu, total=   7.2s\n",
      "[CV] opt_indx=0, nodes=512, lr=0.2, loss=categorical_crossentropy, bias2=True, bias1=True, activation2=relu, activation1=relu \n",
      "[CV]  opt_indx=0, nodes=512, lr=0.2, loss=categorical_crossentropy, bias2=True, bias1=True, activation2=relu, activation1=relu, total=   6.7s\n",
      "[CV] opt_indx=0, nodes=512, lr=0.2, loss=categorical_crossentropy, bias2=True, bias1=True, activation2=relu, activation1=relu \n",
      "[CV]  opt_indx=0, nodes=512, lr=0.2, loss=categorical_crossentropy, bias2=True, bias1=True, activation2=relu, activation1=relu, total=   7.3s\n",
      "[CV] opt_indx=0, nodes=64, lr=0.2, loss=poisson, bias2=True, bias1=False, activation2=relu, activation1=selu \n",
      "[CV]  opt_indx=0, nodes=64, lr=0.2, loss=poisson, bias2=True, bias1=False, activation2=relu, activation1=selu, total=   6.0s\n",
      "[CV] opt_indx=0, nodes=64, lr=0.2, loss=poisson, bias2=True, bias1=False, activation2=relu, activation1=selu \n",
      "[CV]  opt_indx=0, nodes=64, lr=0.2, loss=poisson, bias2=True, bias1=False, activation2=relu, activation1=selu, total=   6.3s\n",
      "[CV] opt_indx=0, nodes=64, lr=0.2, loss=poisson, bias2=True, bias1=False, activation2=relu, activation1=selu \n",
      "[CV]  opt_indx=0, nodes=64, lr=0.2, loss=poisson, bias2=True, bias1=False, activation2=relu, activation1=selu, total=   6.5s\n",
      "[CV] opt_indx=0, nodes=128, lr=0.01, loss=poisson, bias2=True, bias1=True, activation2=relu, activation1=relu \n",
      "[CV]  opt_indx=0, nodes=128, lr=0.01, loss=poisson, bias2=True, bias1=True, activation2=relu, activation1=relu, total=   6.6s\n",
      "[CV] opt_indx=0, nodes=128, lr=0.01, loss=poisson, bias2=True, bias1=True, activation2=relu, activation1=relu \n",
      "[CV]  opt_indx=0, nodes=128, lr=0.01, loss=poisson, bias2=True, bias1=True, activation2=relu, activation1=relu, total=   6.1s\n",
      "[CV] opt_indx=0, nodes=128, lr=0.01, loss=poisson, bias2=True, bias1=True, activation2=relu, activation1=relu \n",
      "[CV]  opt_indx=0, nodes=128, lr=0.01, loss=poisson, bias2=True, bias1=True, activation2=relu, activation1=relu, total=   6.7s\n",
      "[CV] opt_indx=0, nodes=512, lr=0.01, loss=poisson, bias2=False, bias1=True, activation2=relu, activation1=relu \n",
      "[CV]  opt_indx=0, nodes=512, lr=0.01, loss=poisson, bias2=False, bias1=True, activation2=relu, activation1=relu, total=   7.2s\n",
      "[CV] opt_indx=0, nodes=512, lr=0.01, loss=poisson, bias2=False, bias1=True, activation2=relu, activation1=relu \n",
      "[CV]  opt_indx=0, nodes=512, lr=0.01, loss=poisson, bias2=False, bias1=True, activation2=relu, activation1=relu, total=   7.1s\n",
      "[CV] opt_indx=0, nodes=512, lr=0.01, loss=poisson, bias2=False, bias1=True, activation2=relu, activation1=relu \n",
      "[CV]  opt_indx=0, nodes=512, lr=0.01, loss=poisson, bias2=False, bias1=True, activation2=relu, activation1=relu, total=   7.4s\n",
      "[CV] opt_indx=0, nodes=128, lr=0.001, loss=poisson, bias2=True, bias1=True, activation2=relu, activation1=sigmoid \n",
      "[CV]  opt_indx=0, nodes=128, lr=0.001, loss=poisson, bias2=True, bias1=True, activation2=relu, activation1=sigmoid, total=   6.8s\n",
      "[CV] opt_indx=0, nodes=128, lr=0.001, loss=poisson, bias2=True, bias1=True, activation2=relu, activation1=sigmoid \n",
      "[CV]  opt_indx=0, nodes=128, lr=0.001, loss=poisson, bias2=True, bias1=True, activation2=relu, activation1=sigmoid, total=   7.0s\n",
      "[CV] opt_indx=0, nodes=128, lr=0.001, loss=poisson, bias2=True, bias1=True, activation2=relu, activation1=sigmoid \n",
      "[CV]  opt_indx=0, nodes=128, lr=0.001, loss=poisson, bias2=True, bias1=True, activation2=relu, activation1=sigmoid, total=   6.5s\n",
      "[CV] opt_indx=0, nodes=512, lr=0.1, loss=poisson, bias2=False, bias1=True, activation2=relu, activation1=relu \n",
      "[CV]  opt_indx=0, nodes=512, lr=0.1, loss=poisson, bias2=False, bias1=True, activation2=relu, activation1=relu, total=   7.8s\n",
      "[CV] opt_indx=0, nodes=512, lr=0.1, loss=poisson, bias2=False, bias1=True, activation2=relu, activation1=relu \n",
      "[CV]  opt_indx=0, nodes=512, lr=0.1, loss=poisson, bias2=False, bias1=True, activation2=relu, activation1=relu, total=   7.5s\n",
      "[CV] opt_indx=0, nodes=512, lr=0.1, loss=poisson, bias2=False, bias1=True, activation2=relu, activation1=relu \n",
      "[CV]  opt_indx=0, nodes=512, lr=0.1, loss=poisson, bias2=False, bias1=True, activation2=relu, activation1=relu, total=  10.1s\n",
      "[CV] opt_indx=0, nodes=32, lr=0.001, loss=categorical_crossentropy, bias2=True, bias1=False, activation2=relu, activation1=sigmoid \n",
      "[CV]  opt_indx=0, nodes=32, lr=0.001, loss=categorical_crossentropy, bias2=True, bias1=False, activation2=relu, activation1=sigmoid, total=   6.9s\n",
      "[CV] opt_indx=0, nodes=32, lr=0.001, loss=categorical_crossentropy, bias2=True, bias1=False, activation2=relu, activation1=sigmoid \n",
      "[CV]  opt_indx=0, nodes=32, lr=0.001, loss=categorical_crossentropy, bias2=True, bias1=False, activation2=relu, activation1=sigmoid, total=   7.0s\n",
      "[CV] opt_indx=0, nodes=32, lr=0.001, loss=categorical_crossentropy, bias2=True, bias1=False, activation2=relu, activation1=sigmoid \n",
      "[CV]  opt_indx=0, nodes=32, lr=0.001, loss=categorical_crossentropy, bias2=True, bias1=False, activation2=relu, activation1=sigmoid, total=   6.6s\n",
      "[CV] opt_indx=0, nodes=512, lr=0.001, loss=categorical_crossentropy, bias2=True, bias1=False, activation2=softmax, activation1=relu \n",
      "[CV]  opt_indx=0, nodes=512, lr=0.001, loss=categorical_crossentropy, bias2=True, bias1=False, activation2=softmax, activation1=relu, total=   7.7s\n",
      "[CV] opt_indx=0, nodes=512, lr=0.001, loss=categorical_crossentropy, bias2=True, bias1=False, activation2=softmax, activation1=relu \n",
      "[CV]  opt_indx=0, nodes=512, lr=0.001, loss=categorical_crossentropy, bias2=True, bias1=False, activation2=softmax, activation1=relu, total=   8.1s\n",
      "[CV] opt_indx=0, nodes=512, lr=0.001, loss=categorical_crossentropy, bias2=True, bias1=False, activation2=softmax, activation1=relu \n",
      "[CV]  opt_indx=0, nodes=512, lr=0.001, loss=categorical_crossentropy, bias2=True, bias1=False, activation2=softmax, activation1=relu, total=   7.7s\n",
      "[CV] opt_indx=0, nodes=256, lr=0.001, loss=categorical_hinge, bias2=True, bias1=True, activation2=softmax, activation1=relu \n",
      "[CV]  opt_indx=0, nodes=256, lr=0.001, loss=categorical_hinge, bias2=True, bias1=True, activation2=softmax, activation1=relu, total=   7.3s\n",
      "[CV] opt_indx=0, nodes=256, lr=0.001, loss=categorical_hinge, bias2=True, bias1=True, activation2=softmax, activation1=relu \n"
     ]
    },
    {
     "name": "stdout",
     "output_type": "stream",
     "text": [
      "[CV]  opt_indx=0, nodes=256, lr=0.001, loss=categorical_hinge, bias2=True, bias1=True, activation2=softmax, activation1=relu, total=   7.5s\n",
      "[CV] opt_indx=0, nodes=256, lr=0.001, loss=categorical_hinge, bias2=True, bias1=True, activation2=softmax, activation1=relu \n",
      "[CV]  opt_indx=0, nodes=256, lr=0.001, loss=categorical_hinge, bias2=True, bias1=True, activation2=softmax, activation1=relu, total=   7.3s\n",
      "[CV] opt_indx=0, nodes=64, lr=0.001, loss=categorical_crossentropy, bias2=False, bias1=False, activation2=relu, activation1=sigmoid \n",
      "[CV]  opt_indx=0, nodes=64, lr=0.001, loss=categorical_crossentropy, bias2=False, bias1=False, activation2=relu, activation1=sigmoid, total=   7.2s\n",
      "[CV] opt_indx=0, nodes=64, lr=0.001, loss=categorical_crossentropy, bias2=False, bias1=False, activation2=relu, activation1=sigmoid \n",
      "[CV]  opt_indx=0, nodes=64, lr=0.001, loss=categorical_crossentropy, bias2=False, bias1=False, activation2=relu, activation1=sigmoid, total=   7.6s\n",
      "[CV] opt_indx=0, nodes=64, lr=0.001, loss=categorical_crossentropy, bias2=False, bias1=False, activation2=relu, activation1=sigmoid \n",
      "[CV]  opt_indx=0, nodes=64, lr=0.001, loss=categorical_crossentropy, bias2=False, bias1=False, activation2=relu, activation1=sigmoid, total=   7.5s\n",
      "[CV] opt_indx=0, nodes=32, lr=0.1, loss=categorical_crossentropy, bias2=True, bias1=False, activation2=softmax, activation1=sigmoid \n",
      "[CV]  opt_indx=0, nodes=32, lr=0.1, loss=categorical_crossentropy, bias2=True, bias1=False, activation2=softmax, activation1=sigmoid, total=   7.4s\n",
      "[CV] opt_indx=0, nodes=32, lr=0.1, loss=categorical_crossentropy, bias2=True, bias1=False, activation2=softmax, activation1=sigmoid \n",
      "[CV]  opt_indx=0, nodes=32, lr=0.1, loss=categorical_crossentropy, bias2=True, bias1=False, activation2=softmax, activation1=sigmoid, total=   7.5s\n",
      "[CV] opt_indx=0, nodes=32, lr=0.1, loss=categorical_crossentropy, bias2=True, bias1=False, activation2=softmax, activation1=sigmoid \n",
      "[CV]  opt_indx=0, nodes=32, lr=0.1, loss=categorical_crossentropy, bias2=True, bias1=False, activation2=softmax, activation1=sigmoid, total=   7.6s\n",
      "[CV] opt_indx=0, nodes=64, lr=0.2, loss=poisson, bias2=True, bias1=False, activation2=sigmoid, activation1=relu \n",
      "[CV]  opt_indx=0, nodes=64, lr=0.2, loss=poisson, bias2=True, bias1=False, activation2=sigmoid, activation1=relu, total=   7.7s\n",
      "[CV] opt_indx=0, nodes=64, lr=0.2, loss=poisson, bias2=True, bias1=False, activation2=sigmoid, activation1=relu \n",
      "[CV]  opt_indx=0, nodes=64, lr=0.2, loss=poisson, bias2=True, bias1=False, activation2=sigmoid, activation1=relu, total=   7.8s\n",
      "[CV] opt_indx=0, nodes=64, lr=0.2, loss=poisson, bias2=True, bias1=False, activation2=sigmoid, activation1=relu \n",
      "[CV]  opt_indx=0, nodes=64, lr=0.2, loss=poisson, bias2=True, bias1=False, activation2=sigmoid, activation1=relu, total=   7.3s\n",
      "[CV] opt_indx=0, nodes=512, lr=0.01, loss=categorical_crossentropy, bias2=True, bias1=True, activation2=softmax, activation1=selu \n",
      "[CV]  opt_indx=0, nodes=512, lr=0.01, loss=categorical_crossentropy, bias2=True, bias1=True, activation2=softmax, activation1=selu, total=   8.1s\n",
      "[CV] opt_indx=0, nodes=512, lr=0.01, loss=categorical_crossentropy, bias2=True, bias1=True, activation2=softmax, activation1=selu \n",
      "[CV]  opt_indx=0, nodes=512, lr=0.01, loss=categorical_crossentropy, bias2=True, bias1=True, activation2=softmax, activation1=selu, total=   8.0s\n",
      "[CV] opt_indx=0, nodes=512, lr=0.01, loss=categorical_crossentropy, bias2=True, bias1=True, activation2=softmax, activation1=selu \n",
      "[CV]  opt_indx=0, nodes=512, lr=0.01, loss=categorical_crossentropy, bias2=True, bias1=True, activation2=softmax, activation1=selu, total=   8.2s\n",
      "[CV] opt_indx=0, nodes=256, lr=0.2, loss=categorical_hinge, bias2=True, bias1=True, activation2=sigmoid, activation1=relu \n",
      "[CV]  opt_indx=0, nodes=256, lr=0.2, loss=categorical_hinge, bias2=True, bias1=True, activation2=sigmoid, activation1=relu, total=   8.0s\n",
      "[CV] opt_indx=0, nodes=256, lr=0.2, loss=categorical_hinge, bias2=True, bias1=True, activation2=sigmoid, activation1=relu \n",
      "[CV]  opt_indx=0, nodes=256, lr=0.2, loss=categorical_hinge, bias2=True, bias1=True, activation2=sigmoid, activation1=relu, total=   7.9s\n",
      "[CV] opt_indx=0, nodes=256, lr=0.2, loss=categorical_hinge, bias2=True, bias1=True, activation2=sigmoid, activation1=relu \n",
      "[CV]  opt_indx=0, nodes=256, lr=0.2, loss=categorical_hinge, bias2=True, bias1=True, activation2=sigmoid, activation1=relu, total=   7.7s\n",
      "[CV] opt_indx=0, nodes=128, lr=0.2, loss=poisson, bias2=True, bias1=False, activation2=relu, activation1=relu \n",
      "[CV]  opt_indx=0, nodes=128, lr=0.2, loss=poisson, bias2=True, bias1=False, activation2=relu, activation1=relu, total=  10.5s\n",
      "[CV] opt_indx=0, nodes=128, lr=0.2, loss=poisson, bias2=True, bias1=False, activation2=relu, activation1=relu \n",
      "[CV]  opt_indx=0, nodes=128, lr=0.2, loss=poisson, bias2=True, bias1=False, activation2=relu, activation1=relu, total=   8.5s\n",
      "[CV] opt_indx=0, nodes=128, lr=0.2, loss=poisson, bias2=True, bias1=False, activation2=relu, activation1=relu \n",
      "[CV]  opt_indx=0, nodes=128, lr=0.2, loss=poisson, bias2=True, bias1=False, activation2=relu, activation1=relu, total=   8.0s\n",
      "[CV] opt_indx=0, nodes=64, lr=0.1, loss=categorical_crossentropy, bias2=False, bias1=False, activation2=relu, activation1=selu \n",
      "[CV]  opt_indx=0, nodes=64, lr=0.1, loss=categorical_crossentropy, bias2=False, bias1=False, activation2=relu, activation1=selu, total=   8.1s\n",
      "[CV] opt_indx=0, nodes=64, lr=0.1, loss=categorical_crossentropy, bias2=False, bias1=False, activation2=relu, activation1=selu \n",
      "[CV]  opt_indx=0, nodes=64, lr=0.1, loss=categorical_crossentropy, bias2=False, bias1=False, activation2=relu, activation1=selu, total=   8.2s\n",
      "[CV] opt_indx=0, nodes=64, lr=0.1, loss=categorical_crossentropy, bias2=False, bias1=False, activation2=relu, activation1=selu \n",
      "[CV]  opt_indx=0, nodes=64, lr=0.1, loss=categorical_crossentropy, bias2=False, bias1=False, activation2=relu, activation1=selu, total=   8.0s\n",
      "[CV] opt_indx=0, nodes=64, lr=0.1, loss=categorical_hinge, bias2=False, bias1=True, activation2=relu, activation1=relu \n",
      "[CV]  opt_indx=0, nodes=64, lr=0.1, loss=categorical_hinge, bias2=False, bias1=True, activation2=relu, activation1=relu, total=   7.7s\n",
      "[CV] opt_indx=0, nodes=64, lr=0.1, loss=categorical_hinge, bias2=False, bias1=True, activation2=relu, activation1=relu \n",
      "[CV]  opt_indx=0, nodes=64, lr=0.1, loss=categorical_hinge, bias2=False, bias1=True, activation2=relu, activation1=relu, total=   8.1s\n",
      "[CV] opt_indx=0, nodes=64, lr=0.1, loss=categorical_hinge, bias2=False, bias1=True, activation2=relu, activation1=relu \n",
      "[CV]  opt_indx=0, nodes=64, lr=0.1, loss=categorical_hinge, bias2=False, bias1=True, activation2=relu, activation1=relu, total=   8.3s\n"
     ]
    },
    {
     "name": "stderr",
     "output_type": "stream",
     "text": [
      "[Parallel(n_jobs=1)]: Done  60 out of  60 | elapsed:  7.4min finished\n"
     ]
    }
   ],
   "source": [
    "dist = RandomizedSearchCV(estimator=model, param_distributions=param_grid, n_iter=20, cv=3,\n",
    "                    n_jobs=1, refit=True, verbose=2)\n",
    "dist_result = dist.fit(x_train, y_train)"
   ]
  },
  {
   "cell_type": "code",
   "execution_count": 54,
   "metadata": {},
   "outputs": [
    {
     "name": "stdout",
     "output_type": "stream",
     "text": [
      "Model with rank: 1\n",
      "Mean validation score: 0.585 (std: 0.061)\n",
      "Parameters: {'opt_indx': 0, 'nodes': 64, 'lr': 0.1, 'loss': 'categorical_hinge', 'bias2': False, 'bias1': True, 'activation2': 'relu', 'activation1': 'relu'}\n",
      "\n",
      "Model with rank: 2\n",
      "Mean validation score: 0.538 (std: 0.054)\n",
      "Parameters: {'opt_indx': 0, 'nodes': 32, 'lr': 0.001, 'loss': 'categorical_crossentropy', 'bias2': True, 'bias1': False, 'activation2': 'relu', 'activation1': 'sigmoid'}\n",
      "\n",
      "Model with rank: 3\n",
      "Mean validation score: 0.533 (std: 0.028)\n",
      "Parameters: {'opt_indx': 0, 'nodes': 256, 'lr': 0.001, 'loss': 'categorical_hinge', 'bias2': True, 'bias1': True, 'activation2': 'softmax', 'activation1': 'relu'}\n",
      "\n"
     ]
    }
   ],
   "source": [
    "# Utility function to report best scores\n",
    "def report(results, n_top=3):\n",
    "    with open(\"hello.txt\", \"w\") as f: \n",
    "        for i in range(1, n_top + 1):\n",
    "            candidates = np.flatnonzero(results['rank_test_score'] == i)\n",
    "            for candidate in candidates:\n",
    "                f.write(\"Model with rank: {0} \\n\".format(i))\n",
    "                print(\"Model with rank: {0}\".format(i))\n",
    "                \n",
    "                f.write(\"Mean validation score: {0:.3f} (std: {1:.3f}) \\n\".format(\n",
    "                      results['mean_test_score'][candidate],\n",
    "                      results['std_test_score'][candidate]))\n",
    "                print(\"Mean validation score: {0:.3f} (std: {1:.3f})\".format(\n",
    "                      results['mean_test_score'][candidate],\n",
    "                      results['std_test_score'][candidate]))\n",
    "                \n",
    "                f.write(\"Parameters: {0} \\n\".format(results['params'][candidate]))\n",
    "                print(\"Parameters: {0}\".format(results['params'][candidate]))\n",
    "                \n",
    "                f.write(\"\\n\")\n",
    "                print(\"\")\n",
    "report(dist.cv_results_)"
   ]
  },
  {
   "cell_type": "code",
   "execution_count": null,
   "metadata": {
    "collapsed": true
   },
   "outputs": [],
   "source": []
  }
 ],
 "metadata": {
  "kernelspec": {
   "display_name": "Python 3",
   "language": "python",
   "name": "python3"
  },
  "language_info": {
   "codemirror_mode": {
    "name": "ipython",
    "version": 3
   },
   "file_extension": ".py",
   "mimetype": "text/x-python",
   "name": "python",
   "nbconvert_exporter": "python",
   "pygments_lexer": "ipython3",
   "version": "3.6.2"
  }
 },
 "nbformat": 4,
 "nbformat_minor": 2
}
